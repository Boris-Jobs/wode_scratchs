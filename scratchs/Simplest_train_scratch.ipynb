{
 "cells": [
  {
   "cell_type": "code",
   "id": "initial_id",
   "metadata": {
    "collapsed": true,
    "ExecuteTime": {
     "end_time": "2024-08-31T03:18:26.390782Z",
     "start_time": "2024-08-31T03:18:26.386005Z"
    }
   },
   "source": [
    "import torch\n",
    "import torch.nn as nn\n",
    "import torch.optim as optim"
   ],
   "outputs": [],
   "execution_count": 11
  },
  {
   "metadata": {
    "ExecuteTime": {
     "end_time": "2024-08-31T03:01:00.644173Z",
     "start_time": "2024-08-31T03:01:00.636241Z"
    }
   },
   "cell_type": "code",
   "source": [
    "class SimpleModel(nn.Module):\n",
    "    def __init__(self):\n",
    "        super(SimpleModel, self).__init__()\n",
    "        self.linear = nn.Linear(1, 1)\n",
    "    \n",
    "    def forward(self, x):\n",
    "        return self.linear(x)"
   ],
   "id": "b5da0a9e705bc1fd",
   "outputs": [],
   "execution_count": 2
  },
  {
   "metadata": {
    "ExecuteTime": {
     "end_time": "2024-08-31T04:33:31.916655Z",
     "start_time": "2024-08-31T04:33:31.898423Z"
    }
   },
   "cell_type": "code",
   "source": [
    "model = SimpleModel()\n",
    "m = model.to('cuda') if torch.cuda.is_available() else 'cpu'\n",
    "\n",
    "X = torch.tensor([[1.], [2.], [3.]], requires_grad=False, device='cuda')\n",
    "Y = torch.tensor([[1.], [2.], [3.]], requires_grad=False, device='cuda')\n",
    "\n",
    "m.train()\n",
    "\n",
    "loss_fn = nn.CrossEntropyLoss()\n",
    "optimizer = optim.SGD(m.parameters(), lr=0.02)\n",
    "\n",
    "for epoch in range(2):\n",
    "    optimizer.zero_grad()  # 第一步: 清零梯度缓存\n",
    "    logits = model(X)  # 第二步: 计算模型预测结果\n",
    "    loss = loss_fn(logits, Y)  # 第三步: 计算loss\n",
    "    loss.backward(retain_graph=True)  # 第四步: 反向传播计算梯度\n",
    "    loss = loss_fn(logits, Y + 1)\n",
    "    loss.backward()\n",
    "    optimizer.step()  # 第五步: 更新参数\n",
    "    print('Epoch {}, Loss: {}'.format(epoch, loss.item()))\n",
    "\n",
    "\n",
    "print(\"Gradients:\")\n",
    "for name, param in m.named_parameters():\n",
    "    if param.requires_grad:\n",
    "        print(name, param.grad)\n",
    "logits, X"
   ],
   "id": "a82cc1d1cef77efa",
   "outputs": [
    {
     "name": "stdout",
     "output_type": "stream",
     "text": [
      "Epoch 0, Loss: -0.0\n",
      "Epoch 1, Loss: -0.0\n",
      "Gradients:\n",
      "linear.weight tensor([[0.]], device='cuda:0')\n",
      "linear.bias tensor([0.], device='cuda:0')\n"
     ]
    },
    {
     "data": {
      "text/plain": [
       "(tensor([[1.5392],\n",
       "         [2.1193],\n",
       "         [2.6994]], device='cuda:0', grad_fn=<AddmmBackward0>),\n",
       " tensor([[1.],\n",
       "         [2.],\n",
       "         [3.]], device='cuda:0'))"
      ]
     },
     "execution_count": 19,
     "metadata": {},
     "output_type": "execute_result"
    }
   ],
   "execution_count": 19
  },
  {
   "metadata": {},
   "cell_type": "code",
   "outputs": [],
   "execution_count": null,
   "source": "",
   "id": "ddf1ad45aea6a0df"
  }
 ],
 "metadata": {
  "kernelspec": {
   "display_name": "Python 3",
   "language": "python",
   "name": "python3"
  },
  "language_info": {
   "codemirror_mode": {
    "name": "ipython",
    "version": 2
   },
   "file_extension": ".py",
   "mimetype": "text/x-python",
   "name": "python",
   "nbconvert_exporter": "python",
   "pygments_lexer": "ipython2",
   "version": "2.7.6"
  }
 },
 "nbformat": 4,
 "nbformat_minor": 5
}
