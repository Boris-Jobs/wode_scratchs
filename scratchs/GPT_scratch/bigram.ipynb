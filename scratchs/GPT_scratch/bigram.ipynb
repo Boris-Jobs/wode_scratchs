{
 "cells": [
  {
   "cell_type": "code",
   "id": "initial_id",
   "metadata": {
    "collapsed": true,
    "ExecuteTime": {
     "end_time": "2024-08-31T02:41:21.645259Z",
     "start_time": "2024-08-31T02:41:21.639880Z"
    }
   },
   "source": [
    "import torch\n",
    "import torch.nn as nn\n",
    "from pyglet import model\n",
    "from torch.nn import functional as F"
   ],
   "outputs": [],
   "execution_count": 3
  },
  {
   "metadata": {
    "ExecuteTime": {
     "end_time": "2024-08-31T02:41:21.681621Z",
     "start_time": "2024-08-31T02:41:21.645763Z"
    }
   },
   "cell_type": "code",
   "source": [
    "# hyperparameters\n",
    "batch_size = 32\n",
    "block_size = 8\n",
    "max_iters = 3000\n",
    "eval_interval = 300\n",
    "learning_rate = 0.01\n",
    "device = 'cuda' if torch.cuda.is_available() else 'cpu'\n",
    "eval_iters = 200\n",
    "\n",
    "torch.manual_seed(1337)\n",
    "\n",
    "with open('input.txt', 'r', encoding='utf-8') as f:\n",
    "    text = f.read()"
   ],
   "id": "881df833ef60732c",
   "outputs": [],
   "execution_count": 4
  },
  {
   "metadata": {
    "ExecuteTime": {
     "end_time": "2024-08-31T02:41:21.695143Z",
     "start_time": "2024-08-31T02:41:21.682222Z"
    }
   },
   "cell_type": "code",
   "source": [
    "# 构建词表\n",
    "chars = sorted(list(set(text)))\n",
    "vocab_size = len(chars)\n",
    "# chars, vocab_size"
   ],
   "id": "e367adbfca28474",
   "outputs": [],
   "execution_count": 5
  },
  {
   "metadata": {
    "ExecuteTime": {
     "end_time": "2024-08-31T02:41:21.834274Z",
     "start_time": "2024-08-31T02:41:21.695686Z"
    }
   },
   "cell_type": "code",
   "source": [
    "stoi = {ch: i for i, ch in enumerate(chars)}\n",
    "itos = {i: ch for i, ch in enumerate(chars)}\n",
    "encode = lambda s: [stoi[c] for c in s]\n",
    "decode = lambda l: ''.join(itos[i] for i in l)\n",
    "\n",
    "data = torch.tensor(encode(text))\n",
    "# data, text\n",
    "n = int(len(data) * 0.9)\n",
    "train_data = data[:n]\n",
    "val_data = data[n:]"
   ],
   "id": "81544abd43a9562d",
   "outputs": [],
   "execution_count": 6
  },
  {
   "metadata": {
    "ExecuteTime": {
     "end_time": "2024-08-31T02:41:21.838619Z",
     "start_time": "2024-08-31T02:41:21.834274Z"
    }
   },
   "cell_type": "code",
   "source": [
    "def get_batch(split):\n",
    "    data = train_data if split == 'train' else val_data\n",
    "    ix = torch.randint(len(data)-block_size, (block_size,))\n",
    "    x = torch.stack([data[i:i+block_size] for i in ix])\n",
    "    y = torch.stack([data[i+1:i+block_size+1] for i in ix])\n",
    "    x, y = x.to(device), y.to(device)\n",
    "    return x, y"
   ],
   "id": "9697148c3c9180fe",
   "outputs": [],
   "execution_count": 7
  },
  {
   "metadata": {
    "ExecuteTime": {
     "end_time": "2024-08-31T02:41:21.849663Z",
     "start_time": "2024-08-31T02:41:21.838619Z"
    }
   },
   "cell_type": "code",
   "source": [
    "@torch.no_grad()\n",
    "def estimate_loss():\n",
    "    out = {}\n",
    "    model.eval()\n",
    "    for split in ['train', 'val']:\n",
    "        losses = torch.zeros(eval_iters)\n",
    "        for k in range(eval_iters):\n",
    "            X, Y = get_batch(split)\n",
    "            logits, loss = model(X, Y)\n",
    "            losses[k] = loss.item()\n",
    "        out[split] = losses.mean()\n",
    "    model.train()\n",
    "    return out"
   ],
   "id": "78b346053dc9db61",
   "outputs": [],
   "execution_count": 8
  },
  {
   "metadata": {
    "ExecuteTime": {
     "end_time": "2024-08-31T02:41:21.859047Z",
     "start_time": "2024-08-31T02:41:21.849663Z"
    }
   },
   "cell_type": "code",
   "source": [
    "class BigramLanguageModel(nn.Module):\n",
    "    \n",
    "    def __init__(self, vocab_size):\n",
    "        super().__init__()\n",
    "        self.token_embedding_table = nn.Embedding(vocab_size, vocab_size)\n",
    "    \n",
    "    def forward(self, idx, targets=None):\n",
    "        logits = self.token_embedding_table(idx)  # (B, T, C)\n",
    "        if targets is None:\n",
    "            loss = None\n",
    "        else:\n",
    "            B, T, C = logits.shape\n",
    "            logits = logits.view(B*T, C)\n",
    "            targets = targets.view(B*T)\n",
    "            loss = F.cross_entropy(logits, targets)\n",
    "        return logits, loss\n",
    "    \n",
    "    def generate(self, idx, max_new_tokens):\n",
    "        for _ in range(max_new_tokens):\n",
    "            logits, loss = self(idx)\n",
    "            logits = logits[:, -1, :]  # 选择序列最后一个元素的logits, 其大小是(B, C)\n",
    "            probs = F.softmax(logits, dim=-1)  # 在最后一个维度使用softmax\n",
    "            idx_next = torch.multinomial(probs, num_samples=1)\n",
    "            idx = torch.cat([idx, idx_next])\n",
    "        return idx\n",
    "            "
   ],
   "id": "f12823e6f0b88e4f",
   "outputs": [],
   "execution_count": 9
  },
  {
   "metadata": {
    "ExecuteTime": {
     "end_time": "2024-08-31T05:16:09.162877Z",
     "start_time": "2024-08-31T05:15:35.958319Z"
    }
   },
   "cell_type": "code",
   "source": [
    "model = BigramLanguageModel(vocab_size)\n",
    "m = model.to(device)\n",
    "\n",
    "optimizer = torch.optim.AdamW(m.parameters(), lr=learning_rate)\n",
    "\n",
    "for iter in range(max_iters):\n",
    "    if iter % eval_interval == 0:\n",
    "        losses = estimate_loss()\n",
    "        print(f\"step {iter}: train loss {losses['train']:.4f}, val loss {losses['val']:.4f}\")\n",
    "        \n",
    "    xb, yb = get_batch('train')\n",
    "    logits, loss = m(xb, yb)\n",
    "    optimizer.zero_grad(set_to_none=True)\n",
    "    loss.backward()\n",
    "    \n",
    "context = torch.zeros((1, 1), dtype=torch.long, device=device)\n",
    "print(decode(m.generate(context, max_new_tokens=500)[0].tolist()))"
   ],
   "id": "81ca00a404126afe",
   "outputs": [
    {
     "name": "stdout",
     "output_type": "stream",
     "text": [
      "step 0: train loss 4.4801, val loss 4.4952\n",
      "step 300: train loss 4.4993, val loss 4.4946\n",
      "step 600: train loss 4.4922, val loss 4.4956\n",
      "step 900: train loss 4.4842, val loss 4.4863\n",
      "step 1200: train loss 4.4824, val loss 4.4906\n",
      "step 1500: train loss 4.4808, val loss 4.5118\n",
      "step 1800: train loss 4.4710, val loss 4.5005\n",
      "step 2100: train loss 4.4901, val loss 4.4985\n",
      "step 2400: train loss 4.4792, val loss 4.5045\n",
      "step 2700: train loss 4.4794, val loss 4.4902\n"
     ]
    },
    {
     "ename": "RuntimeError",
     "evalue": "CUDA error: out of memory\nCUDA kernel errors might be asynchronously reported at some other API call, so the stacktrace below might be incorrect.\nFor debugging consider passing CUDA_LAUNCH_BLOCKING=1.\nCompile with `TORCH_USE_CUDA_DSA` to enable device-side assertions.\n",
     "output_type": "error",
     "traceback": [
      "\u001B[1;31m---------------------------------------------------------------------------\u001B[0m",
      "\u001B[1;31mRuntimeError\u001B[0m                              Traceback (most recent call last)",
      "Cell \u001B[1;32mIn[11], line 17\u001B[0m\n\u001B[0;32m     14\u001B[0m     loss\u001B[38;5;241m.\u001B[39mbackward()\n\u001B[0;32m     16\u001B[0m context \u001B[38;5;241m=\u001B[39m torch\u001B[38;5;241m.\u001B[39mzeros((\u001B[38;5;241m1\u001B[39m, \u001B[38;5;241m1\u001B[39m), dtype\u001B[38;5;241m=\u001B[39mtorch\u001B[38;5;241m.\u001B[39mlong, device\u001B[38;5;241m=\u001B[39mdevice)\n\u001B[1;32m---> 17\u001B[0m \u001B[38;5;28mprint\u001B[39m(decode(m\u001B[38;5;241m.\u001B[39mgenerate(context, max_new_tokens\u001B[38;5;241m=\u001B[39m\u001B[38;5;241m500\u001B[39m)[\u001B[38;5;241m0\u001B[39m]\u001B[38;5;241m.\u001B[39mtolist()))\n",
      "Cell \u001B[1;32mIn[9], line 23\u001B[0m, in \u001B[0;36mBigramLanguageModel.generate\u001B[1;34m(self, idx, max_new_tokens)\u001B[0m\n\u001B[0;32m     21\u001B[0m     logits \u001B[38;5;241m=\u001B[39m logits[:, \u001B[38;5;241m-\u001B[39m\u001B[38;5;241m1\u001B[39m, :]  \u001B[38;5;66;03m# 选择序列最后一个元素的logits, 其大小是(B, C)\u001B[39;00m\n\u001B[0;32m     22\u001B[0m     probs \u001B[38;5;241m=\u001B[39m F\u001B[38;5;241m.\u001B[39msoftmax(logits, dim\u001B[38;5;241m=\u001B[39m\u001B[38;5;241m-\u001B[39m\u001B[38;5;241m1\u001B[39m)  \u001B[38;5;66;03m# 在最后一个维度使用softmax\u001B[39;00m\n\u001B[1;32m---> 23\u001B[0m     idx_next \u001B[38;5;241m=\u001B[39m torch\u001B[38;5;241m.\u001B[39mmultinomial(probs, num_samples\u001B[38;5;241m=\u001B[39m\u001B[38;5;241m1\u001B[39m)\n\u001B[0;32m     24\u001B[0m     idx \u001B[38;5;241m=\u001B[39m torch\u001B[38;5;241m.\u001B[39mcat([idx, idx_next])\n\u001B[0;32m     25\u001B[0m \u001B[38;5;28;01mreturn\u001B[39;00m idx\n",
      "\u001B[1;31mRuntimeError\u001B[0m: CUDA error: out of memory\nCUDA kernel errors might be asynchronously reported at some other API call, so the stacktrace below might be incorrect.\nFor debugging consider passing CUDA_LAUNCH_BLOCKING=1.\nCompile with `TORCH_USE_CUDA_DSA` to enable device-side assertions.\n"
     ]
    }
   ],
   "execution_count": 11
  },
  {
   "metadata": {},
   "cell_type": "code",
   "outputs": [],
   "execution_count": null,
   "source": "",
   "id": "9e54a23e928bfef9"
  }
 ],
 "metadata": {
  "kernelspec": {
   "display_name": "Python 3",
   "language": "python",
   "name": "python3"
  },
  "language_info": {
   "codemirror_mode": {
    "name": "ipython",
    "version": 2
   },
   "file_extension": ".py",
   "mimetype": "text/x-python",
   "name": "python",
   "nbconvert_exporter": "python",
   "pygments_lexer": "ipython2",
   "version": "2.7.6"
  }
 },
 "nbformat": 4,
 "nbformat_minor": 5
}
